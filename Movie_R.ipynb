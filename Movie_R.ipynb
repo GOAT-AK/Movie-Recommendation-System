{
 "cells": [
  {
   "cell_type": "markdown",
   "id": "682f1349-2c99-44a6-b3a5-51abea5f6748",
   "metadata": {},
   "source": [
    "### *Importing & Loading what we need* "
   ]
  },
  {
   "cell_type": "code",
   "execution_count": 1,
   "id": "2c4dbb47-99ed-4abc-99c5-50a26ac1ca25",
   "metadata": {},
   "outputs": [
    {
     "ename": "NameError",
     "evalue": "name 'columns' is not defined",
     "output_type": "error",
     "traceback": [
      "\u001b[0;31m---------------------------------------------------------------------------\u001b[0m",
      "\u001b[0;31mNameError\u001b[0m                                 Traceback (most recent call last)",
      "Cell \u001b[0;32mIn[1], line 8\u001b[0m\n\u001b[1;32m      5\u001b[0m \u001b[38;5;28;01mfrom\u001b[39;00m \u001b[38;5;21;01msklearn\u001b[39;00m\u001b[38;5;21;01m.\u001b[39;00m\u001b[38;5;21;01mmetrics\u001b[39;00m\u001b[38;5;21;01m.\u001b[39;00m\u001b[38;5;21;01mpairwise\u001b[39;00m \u001b[38;5;28;01mimport\u001b[39;00m cosine_similarity\n\u001b[1;32m      6\u001b[0m \u001b[38;5;28;01mimport\u001b[39;00m \u001b[38;5;21;01mpickle\u001b[39;00m\n\u001b[0;32m----> 8\u001b[0m train \u001b[38;5;241m=\u001b[39m pd\u001b[38;5;241m.\u001b[39mread_csv(\u001b[38;5;124m'\u001b[39m\u001b[38;5;124mml-100k/u1.base\u001b[39m\u001b[38;5;124m'\u001b[39m, sep\u001b[38;5;241m=\u001b[39m\u001b[38;5;124m'\u001b[39m\u001b[38;5;130;01m\\t\u001b[39;00m\u001b[38;5;124m'\u001b[39m, names\u001b[38;5;241m=\u001b[39m\u001b[43mcolumns\u001b[49m)\n\u001b[1;32m      9\u001b[0m test \u001b[38;5;241m=\u001b[39m pd\u001b[38;5;241m.\u001b[39mread_csv(\u001b[38;5;124m'\u001b[39m\u001b[38;5;124mml-100k/u1.test\u001b[39m\u001b[38;5;124m'\u001b[39m, sep\u001b[38;5;241m=\u001b[39m\u001b[38;5;124m'\u001b[39m\u001b[38;5;130;01m\\t\u001b[39;00m\u001b[38;5;124m'\u001b[39m, names\u001b[38;5;241m=\u001b[39mcolumns)\n\u001b[1;32m     11\u001b[0m columns \u001b[38;5;241m=\u001b[39m [\u001b[38;5;124m'\u001b[39m\u001b[38;5;124muser_id\u001b[39m\u001b[38;5;124m'\u001b[39m, \u001b[38;5;124m'\u001b[39m\u001b[38;5;124mmovie_id\u001b[39m\u001b[38;5;124m'\u001b[39m, \u001b[38;5;124m'\u001b[39m\u001b[38;5;124mrating\u001b[39m\u001b[38;5;124m'\u001b[39m, \u001b[38;5;124m'\u001b[39m\u001b[38;5;124mtimestamp\u001b[39m\u001b[38;5;124m'\u001b[39m]\n",
      "\u001b[0;31mNameError\u001b[0m: name 'columns' is not defined"
     ]
    }
   ],
   "source": [
    "import pandas as pd\n",
    "import numpy as np\n",
    "import matplotlib.pyplot as plt\n",
    "import seaborn as sns\n",
    "from sklearn.metrics.pairwise import cosine_similarity\n",
    "import pickle\n",
    "\n",
    "train = pd.read_csv('ml-100k/u1.base', sep='\\t', names=columns)\n",
    "test = pd.read_csv('ml-100k/u1.test', sep='\\t', names=columns)\n",
    "\n",
    "columns = ['user_id', 'movie_id', 'rating', 'timestamp']\n",
    "ratings = pd.read_csv('ml-100k/u.data', sep='\\t', names=columns)\n",
    "\n",
    "movie_cols = ['movie_id', 'title', 'release_date', 'video_release_date', 'IMDb_URL',\n",
    "'unknown', 'Action', 'Adventure', 'Animation', \"Children's\", 'Comedy',\n",
    "'Crime', 'Documentary', 'Drama', 'Fantasy', 'Film-Noir', 'Horror',\n",
    "'Musical', 'Mystery', 'Romance', 'Sci-Fi', 'Thriller', 'War', 'Western']\n",
    "\n",
    "movies = pd.read_csv('ml-100k/u.item', sep='|', names=movie_cols, encoding='latin-1')"
   ]
  },
  {
   "cell_type": "code",
   "execution_count": null,
   "id": "91847d83-ae85-4aa1-8c9e-c39406b618a0",
   "metadata": {},
   "outputs": [],
   "source": [
    "ratings.head()"
   ]
  },
  {
   "cell_type": "code",
   "execution_count": null,
   "id": "38a8bec6-74b9-4b05-884a-508a879fb080",
   "metadata": {},
   "outputs": [],
   "source": [
    "movies.head()"
   ]
  },
  {
   "cell_type": "code",
   "execution_count": null,
   "id": "f92d9adf-14e0-490e-b666-0eca89b9d3be",
   "metadata": {},
   "outputs": [],
   "source": [
    "print(\"\\nShape of the ratings:\", ratings.shape)"
   ]
  },
  {
   "cell_type": "code",
   "execution_count": null,
   "id": "c37d5019-c13b-4dcc-8515-ed46b3a517ff",
   "metadata": {},
   "outputs": [],
   "source": [
    "print('Unique Users:', ratings.user_id.nunique())\n",
    "print('Unique Movies:', ratings.movie_id.nunique())"
   ]
  },
  {
   "cell_type": "code",
   "execution_count": null,
   "id": "f6de8f3c-3a12-45ed-8aaf-93294718a789",
   "metadata": {},
   "outputs": [],
   "source": [
    "print(\"\\nShape of the ratings:\", movies.shape)"
   ]
  },
  {
   "cell_type": "code",
   "execution_count": null,
   "id": "a74ae7d2-c8af-453c-af4b-6b96fd958cb4",
   "metadata": {},
   "outputs": [],
   "source": [
    "print(\"\\nStatistical Summary:\")\n",
    "ratings.describe()"
   ]
  },
  {
   "cell_type": "code",
   "execution_count": null,
   "id": "acbbca58-8def-4c6a-a638-d6e8eb40dcf3",
   "metadata": {},
   "outputs": [],
   "source": []
  },
  {
   "cell_type": "markdown",
   "id": "ee1df7de-b4f0-4582-89f4-4091710d81de",
   "metadata": {},
   "source": [
    "### *EDA & Data Visualisation* "
   ]
  },
  {
   "cell_type": "code",
   "execution_count": null,
   "id": "d6c64af1-6508-4ab8-843e-2f0d641c8540",
   "metadata": {},
   "outputs": [],
   "source": [
    "plt.figure(figsize=(6,4))\n",
    "sns.countplot(x='rating', data=ratings, palette='viridis')\n",
    "plt.title('Distribution of Ratings')\n",
    "plt.xlabel('Rating')\n",
    "plt.ylabel('Count')\n",
    "plt.show()"
   ]
  },
  {
   "cell_type": "code",
   "execution_count": null,
   "id": "0f362e7d-5a5a-4ec3-8f6d-76afd3608c6b",
   "metadata": {},
   "outputs": [],
   "source": [
    "movie_rating_count = ratings.groupby('movie_id').size()\n",
    "plt.figure(figsize=(8,5))\n",
    "sns.histplot(movie_rating_count, bins=40, kde=True)\n",
    "plt.title(\"Number of Ratings per Movie\")\n",
    "plt.xlabel(\"Ratings Count\")\n",
    "plt.ylabel(\"Number of Movies\")\n",
    "plt.show()"
   ]
  },
  {
   "cell_type": "code",
   "execution_count": null,
   "id": "14c89850-7778-4dd6-8bc7-90b1f6d0a54d",
   "metadata": {},
   "outputs": [],
   "source": [
    "most_rated = ratings.groupby('movie_id').size().sort_values(ascending=False).head(10)\n",
    "most_rated = most_rated.reset_index().merge(movies[['movie_id', 'title']], on='movie_id')"
   ]
  },
  {
   "cell_type": "code",
   "execution_count": null,
   "id": "cfd4e394-a07b-4dad-acd0-1a32673d7972",
   "metadata": {},
   "outputs": [],
   "source": [
    "plt.figure(figsize=(10,5))\n",
    "sns.barplot(x='title', y=0, data=most_rated, palette='mako')\n",
    "plt.xticks(rotation=75)\n",
    "plt.title('Top 10 Most Rated Movies')\n",
    "plt.ylabel('Number of Ratings')\n",
    "plt.show()"
   ]
  },
  {
   "cell_type": "markdown",
   "id": "04b81f5c-431b-4e53-b785-0c0ff79f227e",
   "metadata": {},
   "source": [
    "### *Recommend movies based on similar users*"
   ]
  },
  {
   "cell_type": "code",
   "execution_count": null,
   "id": "08bd58d1-ed5c-48fb-9a34-b461e78b1086",
   "metadata": {},
   "outputs": [],
   "source": [
    "user_item_matrix = train.pivot_table(index='user_id', columns='movie_id', values='rating')\n",
    "\n",
    "# Compute user similarity\n",
    "user_similarity = pd.DataFrame(cosine_similarity(user_item_matrix.fillna(0)),\n",
    "                               index=user_item_matrix.index,\n",
    "                               columns=user_item_matrix.index)"
   ]
  },
  {
   "cell_type": "code",
   "execution_count": null,
   "id": "20a82e01-37e4-4228-a8ec-40c01c3983ab",
   "metadata": {},
   "outputs": [],
   "source": [
    "def recommend_user_based(user_id, n_recommendations=5):\n",
    "    similar_users = user_similarity[user_id].sort_values(ascending=False)[1:6].index\n",
    "    similar_users_ratings = user_item_matrix.loc[similar_users]\n",
    "    mean_ratings = similar_users_ratings.mean(axis=0)\n",
    "    \n",
    "    user_rated_movies = user_item_matrix.loc[user_id][user_item_matrix.loc[user_id].notna()].index\n",
    "    recommendations = mean_ratings.drop(user_rated_movies).sort_values(ascending=False).head(n_recommendations)\n",
    "    recommended_movies = pd.merge(recommendations.reset_index(), movies, on='movie_id')\n",
    "    return recommended_movies[['title', 0]].rename(columns={0: 'Predicted Rating'})"
   ]
  },
  {
   "cell_type": "code",
   "execution_count": null,
   "id": "35f97d2b-a87b-427e-99e3-c3eea2edcab1",
   "metadata": {},
   "outputs": [],
   "source": [
    "print(\"\\n User-based recommendations for User 10\")\n",
    "print(recommend_user_based(10))"
   ]
  },
  {
   "cell_type": "markdown",
   "id": "64d6d094-3755-4dd3-870b-18610c7dc305",
   "metadata": {},
   "source": [
    "### *Recommend based on similar items*"
   ]
  },
  {
   "cell_type": "code",
   "execution_count": null,
   "id": "619232ac-d4a8-45d6-b50f-d41fc309067f",
   "metadata": {},
   "outputs": [],
   "source": [
    "item_similarity = pd.DataFrame(cosine_similarity(user_item_matrix.fillna(0).T),\n",
    "                               index=user_item_matrix.columns,\n",
    "                               columns=user_item_matrix.columns)"
   ]
  },
  {
   "cell_type": "code",
   "execution_count": null,
   "id": "6b9601a3-49d5-4bea-8e26-908ae5f000e5",
   "metadata": {},
   "outputs": [],
   "source": [
    "def recommend_item_based(user_id, n_recommendations=5):\n",
    "    user_ratings = user_item_matrix.loc[user_id].dropna()\n",
    "    scores = {}\n",
    "    \n",
    "    for movie, rating in user_ratings.items():\n",
    "        similar_items = item_similarity[movie].drop(movie)\n",
    "        for similar_movie, sim_score in similar_items.items():\n",
    "            if similar_movie not in user_ratings.index:\n",
    "                scores[similar_movie] = scores.get(similar_movie, 0) + sim_score * rating\n",
    "                \n",
    "    sorted_scores = sorted(scores.items(), key=lambda x: x[1], reverse=True)[:n_recommendations]\n",
    "    recommended_movies = pd.DataFrame(sorted_scores, columns=['movie_id', 'score'])\n",
    "    recommended_movies = pd.merge(recommended_movies, movies, on='movie_id')\n",
    "    return recommended_movies[['title', 'score']]"
   ]
  },
  {
   "cell_type": "code",
   "execution_count": null,
   "id": "5e15176b-e227-46d2-8e57-79392e49d884",
   "metadata": {},
   "outputs": [],
   "source": [
    "print(\"\\nItem-based recommendations for User 10\")\n",
    "print(recommend_item_based(10))"
   ]
  },
  {
   "cell_type": "markdown",
   "id": "0cd62461-2b96-46a3-a25b-4e0f8080a557",
   "metadata": {},
   "source": [
    "### *EVALUATION (Precision@K)*"
   ]
  },
  {
   "cell_type": "code",
   "execution_count": null,
   "id": "bc7d3e62-4107-4da0-bef8-4003ce4d76d1",
   "metadata": {},
   "outputs": [],
   "source": [
    "def precision_at_k(test_data, user_based=True, k=5):\n",
    "    hits, total = 0, 0\n",
    "    \n",
    "    for user in test_data['user_id'].unique():\n",
    "        user_test_movies = test_data[test_data['user_id'] == user]['movie_id'].tolist()\n",
    "        if user_based:\n",
    "            recs = recommend_user_based(user, n_recommendations=k)\n",
    "        else:\n",
    "            recs = recommend_item_based(user, n_recommendations=k)\n",
    "        recommended_movies = recs['title'].tolist()\n",
    "        actual_movies = pd.merge(test_data, movies, on='movie_id')\n",
    "        actual_movies = actual_movies[actual_movies['user_id'] == user]['title'].tolist()\n",
    "        hits += len(set(recommended_movies) & set(actual_movies))\n",
    "        total += k\n",
    "    \n",
    "    return hits / total\n",
    "\n",
    "print(\"\\n📏 Evaluating precision@5 ... (this might take a few minutes)\")\n",
    "precision_user = precision_at_k(test, user_based=True, k=5)\n",
    "precision_item = precision_at_k(test, user_based=False, k=5)\n",
    "\n",
    "print(f\" Precision@5 (User-based): {precision_user:.4f}\")\n",
    "print(f\" Precision@5 (Item-based): {precision_item:.4f}\")"
   ]
  },
  {
   "cell_type": "code",
   "execution_count": null,
   "id": "78feb620-0973-4689-8e23-a526a23e6a32",
   "metadata": {},
   "outputs": [],
   "source": [
    "with open('user_similarity.pkl', 'wb') as f:\n",
    "    pickle.dump(user_similarity, f)\n",
    "\n",
    "with open('item_similarity.pkl', 'wb') as f:\n",
    "    pickle.dump(item_similarity, f)\n",
    "\n",
    "print(\"\\nModels saved: user_similarity.pkl & item_similarity.pkl\")"
   ]
  },
  {
   "cell_type": "code",
   "execution_count": null,
   "id": "7567cf6d-fb80-4c04-b5af-59e0f16d4fd7",
   "metadata": {},
   "outputs": [],
   "source": []
  }
 ],
 "metadata": {
  "kernelspec": {
   "display_name": "Python 3 (ipykernel)",
   "language": "python",
   "name": "python3"
  },
  "language_info": {
   "codemirror_mode": {
    "name": "ipython",
    "version": 3
   },
   "file_extension": ".py",
   "mimetype": "text/x-python",
   "name": "python",
   "nbconvert_exporter": "python",
   "pygments_lexer": "ipython3",
   "version": "3.12.0"
  }
 },
 "nbformat": 4,
 "nbformat_minor": 5
}
